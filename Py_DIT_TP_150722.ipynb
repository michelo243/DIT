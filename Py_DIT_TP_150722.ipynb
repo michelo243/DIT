{
 "cells": [
  {
   "cell_type": "code",
   "execution_count": 5,
   "id": "e1cbd73b",
   "metadata": {},
   "outputs": [],
   "source": [
    "# exercices\n",
    "\n",
    "\n",
    "# y = ax + b\n",
    "# determiner a et b\n",
    "\n",
    "# je vous laisse trouver les formules permettant de determiner a et b (indice, il faut avoir moyenne, variance, covariance)\n",
    "\n",
    "\n",
    "# create a function to download the dataset from a url, save it to a file\n",
    "\n",
    "# create a function to open the dataset file and load its content\n",
    "\n",
    "# create a function to convert all string values to float values\n",
    "\n",
    "# create a function to browse the dataset and diplay the values\n",
    "\n",
    "# create a function to scatter plot the dataset\n",
    "\n",
    "# create a function to calculate mean and calculate variance and calculate covariance\n",
    "\n",
    "# create a function to extract the coefficients: a & b\n",
    "\n",
    "# create a function that will make predictions based on extraded values for a & b\n",
    "\n",
    "# create a function to calculate the Mean Squared Error 1/m * sigma(Ytrue - Ypredicted)²\n",
    "\n",
    "# create a function to calculate the Root Mean Squared Error sqrt(1/m * sigma(Ytrue - Ypredicted)²)\n",
    "\n",
    "# create a function to draw the regression line\n",
    "\n",
    "\n",
    "# create a class Foo with\n",
    "# - dataset (attribute): the file containing the dataset\n",
    "# - read_file, a method to open the file and load the data (default file: dataset)\n",
    "# - display, a method to display the first n lines of the dataset (default lines: 10)\n",
    "# - draw, a method to scatter plot the dataset\n",
    "\n",
    "# create a class Bar\n",
    "# - containing 3 static methods: mean, variance, covariance\n",
    "\n",
    "# create a class Baz\n",
    "# - fit, input: dataset file. output: a & b coefficients\n",
    "# - predict, a method to predict y based on a new value for x\n",
    "# - mse, method to calculate MSE\n",
    "# - rmse, method to calculate RMSE"
   ]
  },
  {
   "cell_type": "code",
   "execution_count": null,
   "id": "bf081c91",
   "metadata": {},
   "outputs": [],
   "source": [
    "# create a function to calculate mean\n",
    "\n",
    "import statistics\n",
    "\n",
    "data = [11, 21, 11, 19, 46, 21, 19, 29, 21, 18, 3, 11, 11]\n",
    "\n",
    "x = statistics.mean(data)\n",
    "print(x)\n",
    "\n",
    "y = statistics.median(data)\n",
    "print(y)\n",
    "\n",
    "z = statistics.mode(data)\n",
    "print(z)\n",
    "\n",
    "a = statistics.stdev(data)\n",
    "print(a)\n",
    "\n",
    "b = statistics.variance(data)\n",
    "print(b)"
   ]
  },
  {
   "cell_type": "code",
   "execution_count": 1,
   "id": "d55001a6",
   "metadata": {},
   "outputs": [],
   "source": [
    "import numpy as pd\n"
   ]
  },
  {
   "cell_type": "code",
   "execution_count": 10,
   "id": "60671111",
   "metadata": {},
   "outputs": [
    {
     "name": "stdout",
     "output_type": "stream",
     "text": [
      "Requirement already satisfied: requests in /opt/anaconda3/lib/python3.9/site-packages (2.27.1)\n",
      "Requirement already satisfied: charset-normalizer~=2.0.0 in /opt/anaconda3/lib/python3.9/site-packages (from requests) (2.0.4)\n",
      "Requirement already satisfied: certifi>=2017.4.17 in /opt/anaconda3/lib/python3.9/site-packages (from requests) (2021.10.8)\n",
      "Requirement already satisfied: urllib3<1.27,>=1.21.1 in /opt/anaconda3/lib/python3.9/site-packages (from requests) (1.26.9)\n",
      "Requirement already satisfied: idna<4,>=2.5 in /opt/anaconda3/lib/python3.9/site-packages (from requests) (3.3)\n",
      "Note: you may need to restart the kernel to use updated packages.\n"
     ]
    }
   ],
   "source": [
    "%pip install requests"
   ]
  },
  {
   "cell_type": "code",
   "execution_count": null,
   "id": "5d734301",
   "metadata": {},
   "outputs": [],
   "source": [
    "# create a function to download the dataset from a url, save it to a file\n",
    "\n",
    "import numpy as np\n",
    "import pandas as pd\n",
    "import pickle\n",
    "\n",
    "def load_csv(filepath):\n",
    "    data =  []\n",
    "    col = []\n",
    "    checkcol = False\n",
    "    with open(filepath) as f:\n",
    "        for val in f.readlines():\n",
    "            val = val.replace(\"\\n\",\"\")\n",
    "            val = val.split(',')\n",
    "            if checkcol is False:\n",
    "                col = val\n",
    "                checkcol = True\n",
    "            else:\n",
    "                data.append(val)\n",
    "    df = pd.DataFrame(data=data, columns=col)\n",
    "    return df\n",
    "\n",
    "# testing the function \n",
    "myData = load_csv('/Users/michelo/Documents/DIT/Notebooks/Files/NBA_Player_Stats.csv')\n",
    "print(myData.head())\n"
   ]
  },
  {
   "cell_type": "code",
   "execution_count": null,
   "id": "d2ebcf40",
   "metadata": {},
   "outputs": [],
   "source": [
    "import numpy as np\n",
    "data = np.loadtxt('/Users/michelo/Documents/DIT/Notebooks/Files/NBA_Player_Stats.csv', delimiter=',')\n",
    "print(data)"
   ]
  },
  {
   "cell_type": "code",
   "execution_count": 22,
   "id": "5d947e14",
   "metadata": {},
   "outputs": [],
   "source": [
    "from urllib import request\n",
    "\n",
    "file_url = r'https://docs.python.org/3/library/urllib.request.html'\n",
    "\n",
    "def download_file_from_net(url):\n",
    "    #open the file\n",
    "    fileOpen = request.urlopen(url)\n",
    "    #read the file\n",
    "    file_info = fileOpen.read()\n",
    "    #convert to string\n",
    "    file_info_str =str(file_info)\n",
    "    #split the line\n",
    "    file_lines =file_info_str.split('\\\\n')\n",
    "\n",
    "    #create a new file and store data\n",
    "    newfile = open('newfile.txt','w')\n",
    "\n",
    "    # store all information \n",
    "    for info in file_lines:\n",
    "        newfile.write(info + '\\n')\n",
    "    \n",
    "    #close the file\n",
    "    newfile.close()\n",
    "\n",
    "download_file_from_net(file_url)"
   ]
  },
  {
   "cell_type": "code",
   "execution_count": null,
   "id": "99c3b704",
   "metadata": {},
   "outputs": [],
   "source": [
    "import io\n",
    "import pandas as pd\n",
    "\n",
    "csv_file = io.StringIO(uploaded['/Users/michelo/Documents/DIT/Notebooks/Files/NBA_Player_Stats.csv'].decode('utf-8'))\n",
    "x_df = pd.read_csv(csv_file)\n",
    "\n"
   ]
  },
  {
   "cell_type": "code",
   "execution_count": null,
   "metadata": {},
   "outputs": [],
   "source": [
    "import csv\n",
    "\n",
    "def read_Csv():\n",
    "    with open (\"/Users/michelo/Documents/DIT/Notebooks/Files/NBA_Player_Stats.csv\",'r') as file:\n",
    "        reader = csv.reader(file)\n",
    "        for row in reader:\n",
    "            print(row)\n",
    "\n",
    "read_Csv()"
   ]
  }
 ],
 "metadata": {
  "kernelspec": {
   "display_name": "Python 3.9.12 ('base')",
   "language": "python",
   "name": "python3"
  },
  "language_info": {
   "codemirror_mode": {
    "name": "ipython",
    "version": 3
   },
   "file_extension": ".py",
   "mimetype": "text/x-python",
   "name": "python",
   "nbconvert_exporter": "python",
   "pygments_lexer": "ipython3",
   "version": "3.9.12"
  },
  "vscode": {
   "interpreter": {
    "hash": "40d3a090f54c6569ab1632332b64b2c03c39dcf918b08424e98f38b5ae0af88f"
   }
  }
 },
 "nbformat": 4,
 "nbformat_minor": 5
}
