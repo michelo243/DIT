{
 "cells": [
  {
   "cell_type": "code",
   "execution_count": 5,
   "id": "e1cbd73b",
   "metadata": {},
   "outputs": [],
   "source": [
    "# exercices\n",
    "\n",
    "\n",
    "# y = ax + b\n",
    "# determiner a et b\n",
    "\n",
    "# je vous laisse trouver les formules permettant de determiner a et b (indice, il faut avoir moyenne, variance, covariance)\n",
    "\n",
    "\n",
    "# create a function to download the dataset from a url, save it to a file\n",
    "\n",
    "# create a function to open the dataset file and load its content\n",
    "\n",
    "# create a function to convert all string values to float values\n",
    "\n",
    "# create a function to browse the dataset and diplay the values\n",
    "\n",
    "# create a function to scatter plot the dataset\n",
    "\n",
    "# create a function to calculate mean and calculate variance and calculate covariance\n",
    "\n",
    "# create a function to extract the coefficients: a & b\n",
    "\n",
    "# create a function that will make predictions based on extraded values for a & b\n",
    "\n",
    "# create a function to calculate the Mean Squared Error 1/m * sigma(Ytrue - Ypredicted)²\n",
    "\n",
    "# create a function to calculate the Root Mean Squared Error sqrt(1/m * sigma(Ytrue - Ypredicted)²)\n",
    "\n",
    "# create a function to draw the regression line\n",
    "\n",
    "\n",
    "# create a class Foo with\n",
    "# - dataset (attribute): the file containing the dataset\n",
    "# - read_file, a method to open the file and load the data (default file: dataset)\n",
    "# - display, a method to display the first n lines of the dataset (default lines: 10)\n",
    "# - draw, a method to scatter plot the dataset\n",
    "\n",
    "# create a class Bar\n",
    "# - containing 3 static methods: mean, variance, covariance\n",
    "\n",
    "# create a class Baz\n",
    "# - fit, input: dataset file. output: a & b coefficients\n",
    "# - predict, a method to predict y based on a new value for x\n",
    "# - mse, method to calculate MSE\n",
    "# - rmse, method to calculate RMSE"
   ]
  },
  {
   "cell_type": "code",
   "execution_count": 1,
   "id": "d55001a6",
   "metadata": {},
   "outputs": [],
   "source": [
    "import numpy as pd\n"
   ]
  },
  {
   "cell_type": "code",
   "execution_count": 10,
   "id": "60671111",
   "metadata": {},
   "outputs": [
    {
     "name": "stdout",
     "output_type": "stream",
     "text": [
      "Requirement already satisfied: requests in /opt/anaconda3/lib/python3.9/site-packages (2.27.1)\n",
      "Requirement already satisfied: charset-normalizer~=2.0.0 in /opt/anaconda3/lib/python3.9/site-packages (from requests) (2.0.4)\n",
      "Requirement already satisfied: certifi>=2017.4.17 in /opt/anaconda3/lib/python3.9/site-packages (from requests) (2021.10.8)\n",
      "Requirement already satisfied: urllib3<1.27,>=1.21.1 in /opt/anaconda3/lib/python3.9/site-packages (from requests) (1.26.9)\n",
      "Requirement already satisfied: idna<4,>=2.5 in /opt/anaconda3/lib/python3.9/site-packages (from requests) (3.3)\n",
      "Note: you may need to restart the kernel to use updated packages.\n"
     ]
    }
   ],
   "source": [
    "%pip install requests"
   ]
  },
  {
   "cell_type": "code",
   "execution_count": 7,
   "id": "5d734301",
   "metadata": {},
   "outputs": [
    {
     "ename": "AttributeError",
     "evalue": "partially initialized module 'pandas' has no attribute 'core' (most likely due to a circular import)",
     "output_type": "error",
     "traceback": [
      "\u001b[0;31m---------------------------------------------------------------------------\u001b[0m",
      "\u001b[0;31mAttributeError\u001b[0m                            Traceback (most recent call last)",
      "\u001b[1;32m/Users/michelo/Documents/DIT/Notebooks/Py_DIT_TP_150722.ipynb Cell 3\u001b[0m in \u001b[0;36m<cell line: 4>\u001b[0;34m()\u001b[0m\n\u001b[1;32m      <a href='vscode-notebook-cell:/Users/michelo/Documents/DIT/Notebooks/Py_DIT_TP_150722.ipynb#ch0000002?line=0'>1</a>\u001b[0m \u001b[39m# create a function to download the dataset from a url, save it to a file\u001b[39;00m\n\u001b[1;32m      <a href='vscode-notebook-cell:/Users/michelo/Documents/DIT/Notebooks/Py_DIT_TP_150722.ipynb#ch0000002?line=2'>3</a>\u001b[0m \u001b[39mimport\u001b[39;00m \u001b[39mnumpy\u001b[39;00m \u001b[39mas\u001b[39;00m \u001b[39mnp\u001b[39;00m\n\u001b[0;32m----> <a href='vscode-notebook-cell:/Users/michelo/Documents/DIT/Notebooks/Py_DIT_TP_150722.ipynb#ch0000002?line=3'>4</a>\u001b[0m \u001b[39mimport\u001b[39;00m \u001b[39mpandas\u001b[39;00m \u001b[39mas\u001b[39;00m \u001b[39mpd\u001b[39;00m\n\u001b[1;32m      <a href='vscode-notebook-cell:/Users/michelo/Documents/DIT/Notebooks/Py_DIT_TP_150722.ipynb#ch0000002?line=4'>5</a>\u001b[0m \u001b[39mimport\u001b[39;00m \u001b[39mpickle\u001b[39;00m\n\u001b[1;32m      <a href='vscode-notebook-cell:/Users/michelo/Documents/DIT/Notebooks/Py_DIT_TP_150722.ipynb#ch0000002?line=6'>7</a>\u001b[0m \u001b[39mdef\u001b[39;00m \u001b[39mload_csv\u001b[39m(filepath):\n",
      "File \u001b[0;32m/opt/anaconda3/lib/python3.9/site-packages/pandas/__init__.py:135\u001b[0m, in \u001b[0;36m<module>\u001b[0;34m\u001b[0m\n\u001b[1;32m    117\u001b[0m \u001b[39mfrom\u001b[39;00m \u001b[39mpandas\u001b[39;00m\u001b[39m.\u001b[39;00m\u001b[39mcore\u001b[39;00m\u001b[39m.\u001b[39;00m\u001b[39mcomputation\u001b[39;00m\u001b[39m.\u001b[39;00m\u001b[39mapi\u001b[39;00m \u001b[39mimport\u001b[39;00m \u001b[39meval\u001b[39m\n\u001b[1;32m    119\u001b[0m \u001b[39mfrom\u001b[39;00m \u001b[39mpandas\u001b[39;00m\u001b[39m.\u001b[39;00m\u001b[39mcore\u001b[39;00m\u001b[39m.\u001b[39;00m\u001b[39mreshape\u001b[39;00m\u001b[39m.\u001b[39;00m\u001b[39mapi\u001b[39;00m \u001b[39mimport\u001b[39;00m (\n\u001b[1;32m    120\u001b[0m     concat,\n\u001b[1;32m    121\u001b[0m     lreshape,\n\u001b[0;32m   (...)\u001b[0m\n\u001b[1;32m    132\u001b[0m     qcut,\n\u001b[1;32m    133\u001b[0m )\n\u001b[0;32m--> 135\u001b[0m \u001b[39mfrom\u001b[39;00m \u001b[39mpandas\u001b[39;00m \u001b[39mimport\u001b[39;00m api, arrays, errors, io, plotting, testing, tseries\n\u001b[1;32m    136\u001b[0m \u001b[39mfrom\u001b[39;00m \u001b[39mpandas\u001b[39;00m\u001b[39m.\u001b[39;00m\u001b[39mutil\u001b[39;00m\u001b[39m.\u001b[39;00m\u001b[39m_print_versions\u001b[39;00m \u001b[39mimport\u001b[39;00m show_versions\n\u001b[1;32m    138\u001b[0m \u001b[39mfrom\u001b[39;00m \u001b[39mpandas\u001b[39;00m\u001b[39m.\u001b[39;00m\u001b[39mio\u001b[39;00m\u001b[39m.\u001b[39;00m\u001b[39mapi\u001b[39;00m \u001b[39mimport\u001b[39;00m (\n\u001b[1;32m    139\u001b[0m     \u001b[39m# excel\u001b[39;00m\n\u001b[1;32m    140\u001b[0m     ExcelFile,\n\u001b[0;32m   (...)\u001b[0m\n\u001b[1;32m    168\u001b[0m     read_spss,\n\u001b[1;32m    169\u001b[0m )\n",
      "File \u001b[0;32m/opt/anaconda3/lib/python3.9/site-packages/pandas/testing.py:6\u001b[0m, in \u001b[0;36m<module>\u001b[0;34m\u001b[0m\n\u001b[1;32m      1\u001b[0m \u001b[39m\"\"\"\u001b[39;00m\n\u001b[1;32m      2\u001b[0m \u001b[39mPublic testing utility functions.\u001b[39;00m\n\u001b[1;32m      3\u001b[0m \u001b[39m\"\"\"\u001b[39;00m\n\u001b[0;32m----> 6\u001b[0m \u001b[39mfrom\u001b[39;00m \u001b[39mpandas\u001b[39;00m\u001b[39m.\u001b[39;00m\u001b[39m_testing\u001b[39;00m \u001b[39mimport\u001b[39;00m (\n\u001b[1;32m      7\u001b[0m     assert_extension_array_equal,\n\u001b[1;32m      8\u001b[0m     assert_frame_equal,\n\u001b[1;32m      9\u001b[0m     assert_index_equal,\n\u001b[1;32m     10\u001b[0m     assert_series_equal,\n\u001b[1;32m     11\u001b[0m )\n\u001b[1;32m     13\u001b[0m __all__ \u001b[39m=\u001b[39m [\n\u001b[1;32m     14\u001b[0m     \u001b[39m\"\u001b[39m\u001b[39massert_extension_array_equal\u001b[39m\u001b[39m\"\u001b[39m,\n\u001b[1;32m     15\u001b[0m     \u001b[39m\"\u001b[39m\u001b[39massert_frame_equal\u001b[39m\u001b[39m\"\u001b[39m,\n\u001b[1;32m     16\u001b[0m     \u001b[39m\"\u001b[39m\u001b[39massert_series_equal\u001b[39m\u001b[39m\"\u001b[39m,\n\u001b[1;32m     17\u001b[0m     \u001b[39m\"\u001b[39m\u001b[39massert_index_equal\u001b[39m\u001b[39m\"\u001b[39m,\n\u001b[1;32m     18\u001b[0m ]\n",
      "File \u001b[0;32m/opt/anaconda3/lib/python3.9/site-packages/pandas/_testing/__init__.py:979\u001b[0m, in \u001b[0;36m<module>\u001b[0;34m\u001b[0m\n\u001b[1;32m    974\u001b[0m     \u001b[39mimport\u001b[39;00m \u001b[39mpytest\u001b[39;00m\n\u001b[1;32m    976\u001b[0m     \u001b[39mreturn\u001b[39;00m pytest\u001b[39m.\u001b[39mraises(expected_exception, match\u001b[39m=\u001b[39m\u001b[39mNone\u001b[39;00m)  \u001b[39m# noqa: PDF010\u001b[39;00m\n\u001b[0;32m--> 979\u001b[0m cython_table \u001b[39m=\u001b[39m pd\u001b[39m.\u001b[39;49mcore\u001b[39m.\u001b[39mcommon\u001b[39m.\u001b[39m_cython_table\u001b[39m.\u001b[39mitems()\n\u001b[1;32m    982\u001b[0m \u001b[39mdef\u001b[39;00m \u001b[39mget_cython_table_params\u001b[39m(ndframe, func_names_and_expected):\n\u001b[1;32m    983\u001b[0m     \u001b[39m\"\"\"\u001b[39;00m\n\u001b[1;32m    984\u001b[0m \u001b[39m    Combine frame, functions from com._cython_table\u001b[39;00m\n\u001b[1;32m    985\u001b[0m \u001b[39m    keys and expected result.\u001b[39;00m\n\u001b[0;32m   (...)\u001b[0m\n\u001b[1;32m    997\u001b[0m \u001b[39m        List of three items (DataFrame, function, expected result)\u001b[39;00m\n\u001b[1;32m    998\u001b[0m \u001b[39m    \"\"\"\u001b[39;00m\n",
      "\u001b[0;31mAttributeError\u001b[0m: partially initialized module 'pandas' has no attribute 'core' (most likely due to a circular import)"
     ]
    }
   ],
   "source": [
    "# create a function to download the dataset from a url, save it to a file\n",
    "\n",
    "import numpy as np\n",
    "import pandas as pd\n",
    "import pickle\n",
    "\n",
    "def load_csv(filepath):\n",
    "    data =  []\n",
    "    col = []\n",
    "    checkcol = False\n",
    "    with open(filepath) as f:\n",
    "        for val in f.readlines():\n",
    "            val = val.replace(\"\\n\",\"\")\n",
    "            val = val.split(',')\n",
    "            if checkcol is False:\n",
    "                col = val\n",
    "                checkcol = True\n",
    "            else:\n",
    "                data.append(val)\n",
    "    df = pd.DataFrame(data=data, columns=col)\n",
    "    return df\n",
    "\n",
    "# testing the function \n",
    "myData = load_csv('/Users/michelo/Documents/DIT/Notebooks/Files/NBA_Player_Stats.csv')\n",
    "print(myData.head())\n"
   ]
  },
  {
   "cell_type": "code",
   "execution_count": 8,
   "id": "d2ebcf40",
   "metadata": {},
   "outputs": [
    {
     "ename": "ValueError",
     "evalue": "could not convert string to float: 'Rk'",
     "output_type": "error",
     "traceback": [
      "\u001b[0;31m---------------------------------------------------------------------------\u001b[0m",
      "\u001b[0;31mValueError\u001b[0m                                Traceback (most recent call last)",
      "\u001b[1;32m/Users/michelo/Documents/DIT/Notebooks/Py_DIT_TP_150722.ipynb Cell 4\u001b[0m in \u001b[0;36m<cell line: 2>\u001b[0;34m()\u001b[0m\n\u001b[1;32m      <a href='vscode-notebook-cell:/Users/michelo/Documents/DIT/Notebooks/Py_DIT_TP_150722.ipynb#ch0000008?line=0'>1</a>\u001b[0m \u001b[39mimport\u001b[39;00m \u001b[39mnumpy\u001b[39;00m \u001b[39mas\u001b[39;00m \u001b[39mnp\u001b[39;00m\n\u001b[0;32m----> <a href='vscode-notebook-cell:/Users/michelo/Documents/DIT/Notebooks/Py_DIT_TP_150722.ipynb#ch0000008?line=1'>2</a>\u001b[0m data \u001b[39m=\u001b[39m np\u001b[39m.\u001b[39;49mloadtxt(\u001b[39m'\u001b[39;49m\u001b[39m/Users/michelo/Documents/DIT/Notebooks/Files/NBA_Player_Stats.csv\u001b[39;49m\u001b[39m'\u001b[39;49m, delimiter\u001b[39m=\u001b[39;49m\u001b[39m'\u001b[39;49m\u001b[39m,\u001b[39;49m\u001b[39m'\u001b[39;49m)\n\u001b[1;32m      <a href='vscode-notebook-cell:/Users/michelo/Documents/DIT/Notebooks/Py_DIT_TP_150722.ipynb#ch0000008?line=2'>3</a>\u001b[0m \u001b[39mprint\u001b[39m(data)\n",
      "File \u001b[0;32m/opt/anaconda3/lib/python3.9/site-packages/numpy/lib/npyio.py:1148\u001b[0m, in \u001b[0;36mloadtxt\u001b[0;34m(fname, dtype, comments, delimiter, converters, skiprows, usecols, unpack, ndmin, encoding, max_rows, like)\u001b[0m\n\u001b[1;32m   1143\u001b[0m \u001b[39m# read data in chunks and fill it into an array via resize\u001b[39;00m\n\u001b[1;32m   1144\u001b[0m \u001b[39m# over-allocating and shrinking the array later may be faster but is\u001b[39;00m\n\u001b[1;32m   1145\u001b[0m \u001b[39m# probably not relevant compared to the cost of actually reading and\u001b[39;00m\n\u001b[1;32m   1146\u001b[0m \u001b[39m# converting the data\u001b[39;00m\n\u001b[1;32m   1147\u001b[0m X \u001b[39m=\u001b[39m \u001b[39mNone\u001b[39;00m\n\u001b[0;32m-> 1148\u001b[0m \u001b[39mfor\u001b[39;00m x \u001b[39min\u001b[39;00m read_data(_loadtxt_chunksize):\n\u001b[1;32m   1149\u001b[0m     \u001b[39mif\u001b[39;00m X \u001b[39mis\u001b[39;00m \u001b[39mNone\u001b[39;00m:\n\u001b[1;32m   1150\u001b[0m         X \u001b[39m=\u001b[39m np\u001b[39m.\u001b[39marray(x, dtype)\n",
      "File \u001b[0;32m/opt/anaconda3/lib/python3.9/site-packages/numpy/lib/npyio.py:999\u001b[0m, in \u001b[0;36mloadtxt.<locals>.read_data\u001b[0;34m(chunk_size)\u001b[0m\n\u001b[1;32m    995\u001b[0m     \u001b[39mraise\u001b[39;00m \u001b[39mValueError\u001b[39;00m(\u001b[39m\"\u001b[39m\u001b[39mWrong number of columns at line \u001b[39m\u001b[39m%d\u001b[39;00m\u001b[39m\"\u001b[39m\n\u001b[1;32m    996\u001b[0m                      \u001b[39m%\u001b[39m line_num)\n\u001b[1;32m    998\u001b[0m \u001b[39m# Convert each value according to its column and store\u001b[39;00m\n\u001b[0;32m--> 999\u001b[0m items \u001b[39m=\u001b[39m [conv(val) \u001b[39mfor\u001b[39;00m (conv, val) \u001b[39min\u001b[39;00m \u001b[39mzip\u001b[39m(converters, vals)]\n\u001b[1;32m   1001\u001b[0m \u001b[39m# Then pack it according to the dtype's nesting\u001b[39;00m\n\u001b[1;32m   1002\u001b[0m items \u001b[39m=\u001b[39m pack_items(items, packing)\n",
      "File \u001b[0;32m/opt/anaconda3/lib/python3.9/site-packages/numpy/lib/npyio.py:999\u001b[0m, in \u001b[0;36m<listcomp>\u001b[0;34m(.0)\u001b[0m\n\u001b[1;32m    995\u001b[0m     \u001b[39mraise\u001b[39;00m \u001b[39mValueError\u001b[39;00m(\u001b[39m\"\u001b[39m\u001b[39mWrong number of columns at line \u001b[39m\u001b[39m%d\u001b[39;00m\u001b[39m\"\u001b[39m\n\u001b[1;32m    996\u001b[0m                      \u001b[39m%\u001b[39m line_num)\n\u001b[1;32m    998\u001b[0m \u001b[39m# Convert each value according to its column and store\u001b[39;00m\n\u001b[0;32m--> 999\u001b[0m items \u001b[39m=\u001b[39m [conv(val) \u001b[39mfor\u001b[39;00m (conv, val) \u001b[39min\u001b[39;00m \u001b[39mzip\u001b[39m(converters, vals)]\n\u001b[1;32m   1001\u001b[0m \u001b[39m# Then pack it according to the dtype's nesting\u001b[39;00m\n\u001b[1;32m   1002\u001b[0m items \u001b[39m=\u001b[39m pack_items(items, packing)\n",
      "File \u001b[0;32m/opt/anaconda3/lib/python3.9/site-packages/numpy/lib/npyio.py:736\u001b[0m, in \u001b[0;36m_getconv.<locals>.floatconv\u001b[0;34m(x)\u001b[0m\n\u001b[1;32m    734\u001b[0m \u001b[39mif\u001b[39;00m \u001b[39m'\u001b[39m\u001b[39m0x\u001b[39m\u001b[39m'\u001b[39m \u001b[39min\u001b[39;00m x:\n\u001b[1;32m    735\u001b[0m     \u001b[39mreturn\u001b[39;00m \u001b[39mfloat\u001b[39m\u001b[39m.\u001b[39mfromhex(x)\n\u001b[0;32m--> 736\u001b[0m \u001b[39mreturn\u001b[39;00m \u001b[39mfloat\u001b[39;49m(x)\n",
      "\u001b[0;31mValueError\u001b[0m: could not convert string to float: 'Rk'"
     ]
    }
   ],
   "source": [
    "import numpy as np\n",
    "data = np.loadtxt('/Users/michelo/Documents/DIT/Notebooks/Files/NBA_Player_Stats.csv', delimiter=',')\n",
    "print(data)"
   ]
  },
  {
   "cell_type": "code",
   "execution_count": 11,
   "id": "5d947e14",
   "metadata": {},
   "outputs": [],
   "source": [
    "from urllib import request\n",
    "\n",
    "file_url = r'https://docs.python.org/3/library/urllib.request.html'\n",
    "\n",
    "def download_file_from_net(url):\n",
    "    #open the file\n",
    "    fileOpen = request.urlopen(url)\n",
    "    #read the file\n",
    "    file_info = fileOpen.read()\n",
    "    #convert to string\n",
    "    file_info_str =str(file_info)\n",
    "    #split the line\n",
    "    file_lines =file_info_str.split('\\\\n')\n",
    "\n",
    "    #create a new file and store data\n",
    "    newfile = open('newfile.txt','w')\n",
    "\n",
    "    # store all information \n",
    "    for info in file_lines:\n",
    "        newfile.write(info + '\\n')\n",
    "    \n",
    "    #close the file\n",
    "    newfile.close()\n",
    "\n",
    "download_file_from_net(file_url)"
   ]
  },
  {
   "cell_type": "code",
   "execution_count": 12,
   "id": "99c3b704",
   "metadata": {},
   "outputs": [
    {
     "ename": "AttributeError",
     "evalue": "partially initialized module 'pandas' has no attribute 'core' (most likely due to a circular import)",
     "output_type": "error",
     "traceback": [
      "\u001b[0;31m---------------------------------------------------------------------------\u001b[0m",
      "\u001b[0;31mAttributeError\u001b[0m                            Traceback (most recent call last)",
      "\u001b[1;32m/Users/michelo/Documents/DIT/Notebooks/Py_DIT_TP_150722.ipynb Cell 7\u001b[0m in \u001b[0;36m<cell line: 2>\u001b[0;34m()\u001b[0m\n\u001b[1;32m      <a href='vscode-notebook-cell:/Users/michelo/Documents/DIT/Notebooks/Py_DIT_TP_150722.ipynb#ch0000011?line=0'>1</a>\u001b[0m \u001b[39mimport\u001b[39;00m \u001b[39mio\u001b[39;00m\n\u001b[0;32m----> <a href='vscode-notebook-cell:/Users/michelo/Documents/DIT/Notebooks/Py_DIT_TP_150722.ipynb#ch0000011?line=1'>2</a>\u001b[0m \u001b[39mimport\u001b[39;00m \u001b[39mpandas\u001b[39;00m \u001b[39mas\u001b[39;00m \u001b[39mpd\u001b[39;00m\n\u001b[1;32m      <a href='vscode-notebook-cell:/Users/michelo/Documents/DIT/Notebooks/Py_DIT_TP_150722.ipynb#ch0000011?line=3'>4</a>\u001b[0m csv_file \u001b[39m=\u001b[39m io\u001b[39m.\u001b[39mStringIO(uploaded[\u001b[39m'\u001b[39m\u001b[39m/Users/michelo/Documents/DIT/Notebooks/Files/NBA_Player_Stats.csv\u001b[39m\u001b[39m'\u001b[39m]\u001b[39m.\u001b[39mdecode(\u001b[39m'\u001b[39m\u001b[39mutf-8\u001b[39m\u001b[39m'\u001b[39m))\n\u001b[1;32m      <a href='vscode-notebook-cell:/Users/michelo/Documents/DIT/Notebooks/Py_DIT_TP_150722.ipynb#ch0000011?line=4'>5</a>\u001b[0m x_df \u001b[39m=\u001b[39m pd\u001b[39m.\u001b[39mread_csv(csv_file)\n",
      "File \u001b[0;32m/opt/anaconda3/lib/python3.9/site-packages/pandas/__init__.py:135\u001b[0m, in \u001b[0;36m<module>\u001b[0;34m\u001b[0m\n\u001b[1;32m    117\u001b[0m \u001b[39mfrom\u001b[39;00m \u001b[39mpandas\u001b[39;00m\u001b[39m.\u001b[39;00m\u001b[39mcore\u001b[39;00m\u001b[39m.\u001b[39;00m\u001b[39mcomputation\u001b[39;00m\u001b[39m.\u001b[39;00m\u001b[39mapi\u001b[39;00m \u001b[39mimport\u001b[39;00m \u001b[39meval\u001b[39m\n\u001b[1;32m    119\u001b[0m \u001b[39mfrom\u001b[39;00m \u001b[39mpandas\u001b[39;00m\u001b[39m.\u001b[39;00m\u001b[39mcore\u001b[39;00m\u001b[39m.\u001b[39;00m\u001b[39mreshape\u001b[39;00m\u001b[39m.\u001b[39;00m\u001b[39mapi\u001b[39;00m \u001b[39mimport\u001b[39;00m (\n\u001b[1;32m    120\u001b[0m     concat,\n\u001b[1;32m    121\u001b[0m     lreshape,\n\u001b[0;32m   (...)\u001b[0m\n\u001b[1;32m    132\u001b[0m     qcut,\n\u001b[1;32m    133\u001b[0m )\n\u001b[0;32m--> 135\u001b[0m \u001b[39mfrom\u001b[39;00m \u001b[39mpandas\u001b[39;00m \u001b[39mimport\u001b[39;00m api, arrays, errors, io, plotting, testing, tseries\n\u001b[1;32m    136\u001b[0m \u001b[39mfrom\u001b[39;00m \u001b[39mpandas\u001b[39;00m\u001b[39m.\u001b[39;00m\u001b[39mutil\u001b[39;00m\u001b[39m.\u001b[39;00m\u001b[39m_print_versions\u001b[39;00m \u001b[39mimport\u001b[39;00m show_versions\n\u001b[1;32m    138\u001b[0m \u001b[39mfrom\u001b[39;00m \u001b[39mpandas\u001b[39;00m\u001b[39m.\u001b[39;00m\u001b[39mio\u001b[39;00m\u001b[39m.\u001b[39;00m\u001b[39mapi\u001b[39;00m \u001b[39mimport\u001b[39;00m (\n\u001b[1;32m    139\u001b[0m     \u001b[39m# excel\u001b[39;00m\n\u001b[1;32m    140\u001b[0m     ExcelFile,\n\u001b[0;32m   (...)\u001b[0m\n\u001b[1;32m    168\u001b[0m     read_spss,\n\u001b[1;32m    169\u001b[0m )\n",
      "File \u001b[0;32m/opt/anaconda3/lib/python3.9/site-packages/pandas/testing.py:6\u001b[0m, in \u001b[0;36m<module>\u001b[0;34m\u001b[0m\n\u001b[1;32m      1\u001b[0m \u001b[39m\"\"\"\u001b[39;00m\n\u001b[1;32m      2\u001b[0m \u001b[39mPublic testing utility functions.\u001b[39;00m\n\u001b[1;32m      3\u001b[0m \u001b[39m\"\"\"\u001b[39;00m\n\u001b[0;32m----> 6\u001b[0m \u001b[39mfrom\u001b[39;00m \u001b[39mpandas\u001b[39;00m\u001b[39m.\u001b[39;00m\u001b[39m_testing\u001b[39;00m \u001b[39mimport\u001b[39;00m (\n\u001b[1;32m      7\u001b[0m     assert_extension_array_equal,\n\u001b[1;32m      8\u001b[0m     assert_frame_equal,\n\u001b[1;32m      9\u001b[0m     assert_index_equal,\n\u001b[1;32m     10\u001b[0m     assert_series_equal,\n\u001b[1;32m     11\u001b[0m )\n\u001b[1;32m     13\u001b[0m __all__ \u001b[39m=\u001b[39m [\n\u001b[1;32m     14\u001b[0m     \u001b[39m\"\u001b[39m\u001b[39massert_extension_array_equal\u001b[39m\u001b[39m\"\u001b[39m,\n\u001b[1;32m     15\u001b[0m     \u001b[39m\"\u001b[39m\u001b[39massert_frame_equal\u001b[39m\u001b[39m\"\u001b[39m,\n\u001b[1;32m     16\u001b[0m     \u001b[39m\"\u001b[39m\u001b[39massert_series_equal\u001b[39m\u001b[39m\"\u001b[39m,\n\u001b[1;32m     17\u001b[0m     \u001b[39m\"\u001b[39m\u001b[39massert_index_equal\u001b[39m\u001b[39m\"\u001b[39m,\n\u001b[1;32m     18\u001b[0m ]\n",
      "File \u001b[0;32m/opt/anaconda3/lib/python3.9/site-packages/pandas/_testing/__init__.py:979\u001b[0m, in \u001b[0;36m<module>\u001b[0;34m\u001b[0m\n\u001b[1;32m    974\u001b[0m     \u001b[39mimport\u001b[39;00m \u001b[39mpytest\u001b[39;00m\n\u001b[1;32m    976\u001b[0m     \u001b[39mreturn\u001b[39;00m pytest\u001b[39m.\u001b[39mraises(expected_exception, match\u001b[39m=\u001b[39m\u001b[39mNone\u001b[39;00m)  \u001b[39m# noqa: PDF010\u001b[39;00m\n\u001b[0;32m--> 979\u001b[0m cython_table \u001b[39m=\u001b[39m pd\u001b[39m.\u001b[39;49mcore\u001b[39m.\u001b[39mcommon\u001b[39m.\u001b[39m_cython_table\u001b[39m.\u001b[39mitems()\n\u001b[1;32m    982\u001b[0m \u001b[39mdef\u001b[39;00m \u001b[39mget_cython_table_params\u001b[39m(ndframe, func_names_and_expected):\n\u001b[1;32m    983\u001b[0m     \u001b[39m\"\"\"\u001b[39;00m\n\u001b[1;32m    984\u001b[0m \u001b[39m    Combine frame, functions from com._cython_table\u001b[39;00m\n\u001b[1;32m    985\u001b[0m \u001b[39m    keys and expected result.\u001b[39;00m\n\u001b[0;32m   (...)\u001b[0m\n\u001b[1;32m    997\u001b[0m \u001b[39m        List of three items (DataFrame, function, expected result)\u001b[39;00m\n\u001b[1;32m    998\u001b[0m \u001b[39m    \"\"\"\u001b[39;00m\n",
      "\u001b[0;31mAttributeError\u001b[0m: partially initialized module 'pandas' has no attribute 'core' (most likely due to a circular import)"
     ]
    }
   ],
   "source": [
    "import io\n",
    "import pandas as pd\n",
    "\n",
    "csv_file = io.StringIO(uploaded['/Users/michelo/Documents/DIT/Notebooks/Files/NBA_Player_Stats.csv'].decode('utf-8'))\n",
    "x_df = pd.read_csv(csv_file)\n",
    "\n"
   ]
  }
 ],
 "metadata": {
  "kernelspec": {
   "display_name": "Python 3.9.12 ('base')",
   "language": "python",
   "name": "python3"
  },
  "language_info": {
   "codemirror_mode": {
    "name": "ipython",
    "version": 3
   },
   "file_extension": ".py",
   "mimetype": "text/x-python",
   "name": "python",
   "nbconvert_exporter": "python",
   "pygments_lexer": "ipython3",
   "version": "3.9.12"
  },
  "vscode": {
   "interpreter": {
    "hash": "40d3a090f54c6569ab1632332b64b2c03c39dcf918b08424e98f38b5ae0af88f"
   }
  }
 },
 "nbformat": 4,
 "nbformat_minor": 5
}
